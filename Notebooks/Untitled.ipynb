{
 "cells": [
  {
   "cell_type": "code",
   "execution_count": 2,
   "id": "37f001bc-ad94-4da5-b1e0-a1046b177d20",
   "metadata": {},
   "outputs": [
    {
     "name": "stdout",
     "output_type": "stream",
     "text": [
      "Max is 5 years old.\n"
     ]
    }
   ],
   "source": [
    "class Dog:\n",
    "    # Class attribute\n",
    "    species = \"Canis familiaris\"\n",
    "\n",
    "    # Constructor (initializer) method\n",
    "    def __init__(self, name, age):\n",
    "        self.name = name\n",
    "        self.age = age\n",
    "\n",
    "    # Instance method\n",
    "    def bark(self):\n",
    "        return \"Woof!\"\n",
    "\n",
    "    # Instance method\n",
    "    def describe(self):\n",
    "        return f\"{self.name} is {self.age} years old.\"\n",
    "\n",
    "# Creating instances of the Dog class\n",
    "dog1 = Dog(name=\"Buddy\", age=3)\n",
    "dog2 = Dog(name=\"Max\", age=5)\n",
    "\n",
    "# Accessing attributes and calling methods\n",
    "# print(f\"{dog1.name} says {dog1.bark()}\")\n",
    "print(dog2.describe())"
   ]
  },
  {
   "cell_type": "code",
   "execution_count": null,
   "id": "e5a3c3f9-e55e-4086-86cd-26cecadf0f83",
   "metadata": {},
   "outputs": [],
   "source": []
  }
 ],
 "metadata": {
  "kernelspec": {
   "display_name": "Python 3 (ipykernel)",
   "language": "python",
   "name": "python3"
  },
  "language_info": {
   "codemirror_mode": {
    "name": "ipython",
    "version": 3
   },
   "file_extension": ".py",
   "mimetype": "text/x-python",
   "name": "python",
   "nbconvert_exporter": "python",
   "pygments_lexer": "ipython3",
   "version": "3.8.5"
  }
 },
 "nbformat": 4,
 "nbformat_minor": 5
}
